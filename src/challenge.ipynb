{
 "cells": [
  {
   "cell_type": "markdown",
   "metadata": {},
   "source": [
    "En este archivo puedes escribir lo que estimes conveniente. Te recomendamos detallar tu solución y todas las suposiciones que estás considerando. Aquí puedes ejecutar las funciones que definiste en los otros archivos de la carpeta src, medir el tiempo, memoria, etc."
   ]
  },
  {
   "cell_type": "markdown",
   "metadata": {},
   "source": [
    "# Entorno"
   ]
  },
  {
   "cell_type": "markdown",
   "metadata": {},
   "source": [
    "Las siguientes métricas de tiempos y memoria se calcularon en una MacBook Pro M1 de 16 GB de RAM, con Sonoma 14.5."
   ]
  },
  {
   "cell_type": "code",
   "execution_count": 3,
   "metadata": {},
   "outputs": [],
   "source": [
    "from memory_profiler import memory_usage\n",
    "file_path = \"../data/farmers-protest-tweets-2021-2-4.json\"\n",
    "\n",
    "def time_profile_function_wrapper(func):\n",
    "    import cProfile\n",
    "    import pstats\n",
    "    import io\n",
    "    import os\n",
    "    import sys\n",
    "\n",
    "    def wrapper(*args, **kwargs):\n",
    "        pr = cProfile.Profile()\n",
    "        pr.enable()\n",
    "        result = func(*args, **kwargs)\n",
    "        pr.disable()\n",
    "        s = io.StringIO()\n",
    "        ps = pstats.Stats(pr, stream=s).sort_stats('cumulative')\n",
    "        ps.print_stats()\n",
    "        print(s.getvalue())\n",
    "        return result\n",
    "\n",
    "    return wrapper\n"
   ]
  },
  {
   "cell_type": "code",
   "execution_count": 18,
   "metadata": {},
   "outputs": [
    {
     "name": "stdout",
     "output_type": "stream",
     "text": [
      "The memory_profiler extension is already loaded. To reload it, use:\n",
      "  %reload_ext memory_profiler\n"
     ]
    }
   ],
   "source": [
    "%load_ext memory_profiler"
   ]
  },
  {
   "cell_type": "markdown",
   "metadata": {},
   "source": [
    "# Primera pregunta"
   ]
  },
  {
   "cell_type": "markdown",
   "metadata": {},
   "source": [
    "Se probaron varias opciones para hacer esta pregunta. Primero, usar Pandas para, con un dataframe, calcular las métricas usando métodos como nlargest y groupby. Sin embargo, eran un poco más lentos que usando métodos nativos de Python. Además, el importar la librería de Pandas también incrementa la memoria.\n",
    "\n",
    "También, algo que veremos en todos los problemas, es la optimización que ocurre al usar la librería orjson en vez de json. El speedup es impresionante, y hace que por ejemplo este primer problema se ejecute en 1.2 segundos, en promedio. Sin embargo, la librería orjson utiliza un poco más de memoria que la librería por defecto.\n",
    "\n",
    "Por otro lado, añadir try/except añade al menos 0.1 sgs de más en promedio, pero es necesario, ya que el código debe ser robusto a posibles errores en el JSON.\n",
    "\n",
    "Así mismo, se podrían unificar las funciones de lectura del JSON ya que son muy parecidas, sin embargo esto haría que el código de optimización de memoria importara librerías que no necesita, lo que aumentaría el uso de memoria.\n",
    "\n",
    "En términos de optimización en memoria lo único que se puede hacer es usar JSON en vez de ORJSON, ya que usa menos memoria. Pero el código optimizado para tiempo en gran parte también está optimizado para usar la menor cantidad de memoria posible."
   ]
  },
  {
   "cell_type": "markdown",
   "metadata": {},
   "source": [
    "## Tiempo"
   ]
  },
  {
   "cell_type": "code",
   "execution_count": 2,
   "metadata": {},
   "outputs": [],
   "source": [
    "from q1_time import q1_time"
   ]
  },
  {
   "cell_type": "markdown",
   "metadata": {},
   "source": [
    "Resultados:"
   ]
  },
  {
   "cell_type": "code",
   "execution_count": 5,
   "metadata": {},
   "outputs": [
    {
     "data": {
      "text/plain": [
       "[(datetime.date(2021, 2, 12), 'RanbirS00614606'),\n",
       " (datetime.date(2021, 2, 13), 'MaanDee08215437'),\n",
       " (datetime.date(2021, 2, 17), 'RaaJVinderkaur'),\n",
       " (datetime.date(2021, 2, 16), 'jot__b'),\n",
       " (datetime.date(2021, 2, 14), 'rebelpacifist'),\n",
       " (datetime.date(2021, 2, 18), 'neetuanjle_nitu'),\n",
       " (datetime.date(2021, 2, 15), 'jot__b'),\n",
       " (datetime.date(2021, 2, 20), 'MangalJ23056160'),\n",
       " (datetime.date(2021, 2, 23), 'Surrypuria'),\n",
       " (datetime.date(2021, 2, 19), 'Preetm91')]"
      ]
     },
     "execution_count": 5,
     "metadata": {},
     "output_type": "execute_result"
    }
   ],
   "source": [
    "q1_time(file_path)"
   ]
  },
  {
   "cell_type": "markdown",
   "metadata": {},
   "source": [
    "Tiempo promedio que se demora en correr la función:"
   ]
  },
  {
   "cell_type": "code",
   "execution_count": 6,
   "metadata": {},
   "outputs": [
    {
     "name": "stdout",
     "output_type": "stream",
     "text": [
      "1.32 s ± 467 ms per loop (mean ± std. dev. of 7 runs, 1 loop each)\n"
     ]
    }
   ],
   "source": [
    "%%timeit\n",
    "q1_time(file_path)"
   ]
  },
  {
   "cell_type": "markdown",
   "metadata": {},
   "source": [
    "Se demora 1.32 sgs cada ejecución."
   ]
  },
  {
   "cell_type": "markdown",
   "metadata": {},
   "source": [
    "Detalles:"
   ]
  },
  {
   "cell_type": "code",
   "execution_count": 13,
   "metadata": {},
   "outputs": [
    {
     "name": "stdout",
     "output_type": "stream",
     "text": [
      "         1090571 function calls in 1.312 seconds\n",
      "\n",
      "   Ordered by: cumulative time\n",
      "\n",
      "   ncalls  tottime  percall  cumtime  percall filename:lineno(function)\n",
      "        1    0.084    0.084    1.312    1.312 /Users/estebanfelipecaceresgelvez/Downloads/challenge_DE/src/q1_time.py:30(q1_time)\n",
      "   117408    0.505    0.000    1.211    0.000 /Users/estebanfelipecaceresgelvez/Downloads/challenge_DE/src/q1_time.py:6(read_json_q1_memory)\n",
      "   117407    0.633    0.000    0.633    0.000 {orjson.loads}\n",
      "    49772    0.016    0.000    0.043    0.000 /Users/estebanfelipecaceresgelvez/.pyenv/versions/3.10.8/lib/python3.10/codecs.py:319(decode)\n",
      "    49772    0.027    0.000    0.027    0.000 {built-in method _codecs.utf_8_decode}\n",
      "   352221    0.016    0.000    0.016    0.000 {method 'get' of 'dict' objects}\n",
      "   117407    0.012    0.000    0.012    0.000 {method 'split' of 'str' objects}\n",
      "   117407    0.007    0.000    0.007    0.000 {built-in method fromisoformat}\n",
      "   117407    0.006    0.000    0.006    0.000 {method 'date' of 'datetime.datetime' objects}\n",
      "    51646    0.003    0.000    0.003    0.000 /Users/estebanfelipecaceresgelvez/.pyenv/versions/3.10.8/lib/python3.10/collections/__init__.py:579(__missing__)\n",
      "        1    0.000    0.000    0.002    0.002 /Users/estebanfelipecaceresgelvez/Downloads/challenge_DE/src/q1_time.py:51(<listcomp>)\n",
      "       10    0.000    0.000    0.002    0.000 /Users/estebanfelipecaceresgelvez/.pyenv/versions/3.10.8/lib/python3.10/collections/__init__.py:588(most_common)\n",
      "       10    0.000    0.000    0.002    0.000 /Users/estebanfelipecaceresgelvez/.pyenv/versions/3.10.8/lib/python3.10/heapq.py:521(nlargest)\n",
      "       10    0.002    0.000    0.002    0.000 {built-in method builtins.max}\n",
      "        1    0.000    0.000    0.000    0.000 {built-in method builtins.sorted}\n",
      "       13    0.000    0.000    0.000    0.000 /Users/estebanfelipecaceresgelvez/Downloads/challenge_DE/src/q1_time.py:48(<lambda>)\n",
      "       13    0.000    0.000    0.000    0.000 {built-in method builtins.sum}\n",
      "        1    0.000    0.000    0.000    0.000 {built-in method io.open}\n",
      "       13    0.000    0.000    0.000    0.000 /Users/estebanfelipecaceresgelvez/.pyenv/versions/3.10.8/lib/python3.10/collections/__init__.py:565(__init__)\n",
      "        1    0.000    0.000    0.000    0.000 /Users/estebanfelipecaceresgelvez/.pyenv/versions/3.10.8/lib/python3.10/codecs.py:309(__init__)\n",
      "        1    0.000    0.000    0.000    0.000 {method '__exit__' of '_io._IOBase' objects}\n",
      "       13    0.000    0.000    0.000    0.000 /Users/estebanfelipecaceresgelvez/.pyenv/versions/3.10.8/lib/python3.10/collections/__init__.py:640(update)\n",
      "        1    0.000    0.000    0.000    0.000 /Users/estebanfelipecaceresgelvez/.pyenv/versions/3.10.8/lib/python3.10/codecs.py:260(__init__)\n",
      "        1    0.000    0.000    0.000    0.000 {method 'disable' of '_lsprof.Profiler' objects}\n",
      "       10    0.000    0.000    0.000    0.000 {built-in method builtins.iter}\n",
      "       13    0.000    0.000    0.000    0.000 {method 'values' of 'dict' objects}\n",
      "       11    0.000    0.000    0.000    0.000 {method 'items' of 'dict' objects}\n",
      "\n",
      "\n",
      "\n"
     ]
    },
    {
     "data": {
      "text/plain": [
       "[(datetime.date(2021, 2, 12), 'RanbirS00614606'),\n",
       " (datetime.date(2021, 2, 13), 'MaanDee08215437'),\n",
       " (datetime.date(2021, 2, 17), 'RaaJVinderkaur'),\n",
       " (datetime.date(2021, 2, 16), 'jot__b'),\n",
       " (datetime.date(2021, 2, 14), 'rebelpacifist'),\n",
       " (datetime.date(2021, 2, 18), 'neetuanjle_nitu'),\n",
       " (datetime.date(2021, 2, 15), 'jot__b'),\n",
       " (datetime.date(2021, 2, 20), 'MangalJ23056160'),\n",
       " (datetime.date(2021, 2, 23), 'Surrypuria'),\n",
       " (datetime.date(2021, 2, 19), 'Preetm91')]"
      ]
     },
     "execution_count": 13,
     "metadata": {},
     "output_type": "execute_result"
    }
   ],
   "source": [
    "time_profile_function_wrapper(q1_time)(file_path)"
   ]
  },
  {
   "cell_type": "markdown",
   "metadata": {},
   "source": [
    "## Memoria"
   ]
  },
  {
   "cell_type": "code",
   "execution_count": 1,
   "metadata": {},
   "outputs": [],
   "source": [
    "from q1_memory import q1_memory"
   ]
  },
  {
   "cell_type": "markdown",
   "metadata": {},
   "source": [
    "Resultados"
   ]
  },
  {
   "cell_type": "code",
   "execution_count": 4,
   "metadata": {},
   "outputs": [
    {
     "name": "stdout",
     "output_type": "stream",
     "text": [
      "Filename: /Users/estebanfelipecaceresgelvez/Downloads/challenge_DE/src/q1_memory.py\n",
      "\n",
      "Line #    Mem usage    Increment  Occurrences   Line Contents\n",
      "=============================================================\n",
      "    32     31.8 MiB     31.8 MiB           1   @profile\n",
      "    33                                         def q1_memory(file_path: str) -> List[Tuple[date, str]]:\n",
      "    34                                             \"\"\"\n",
      "    35                                             Función que retorna los 10 días con más tweets y el usuario que más tweets hizo en cada uno de esos días.\n",
      "    36                                             \n",
      "    37                                             :param file_path: str con la ruta del archivo JSON.\n",
      "    38                                             :return top_users_per_date: Lista de tuplas con la fecha y el usuario con más tweets en esa fecha.\n",
      "    39                                             \"\"\"\n",
      "    40                                             \n",
      "    41                                             # Creamos un diccionario con un contador por fecha\n",
      "    42     31.8 MiB      0.0 MiB           1       date_user_counter = defaultdict(Counter)\n",
      "    43                                         \n",
      "    44                                             # Leemos el archivo JSON y contamos los tweets por usuario y fecha. Usando json, para optimizar memoria.\n",
      "    45     38.4 MiB -43774.8 MiB      117408       for user, date_str in read_json_q1_memory(file_path):\n",
      "    46     38.4 MiB -43779.2 MiB      117407           date = datetime.fromisoformat(date_str).date()\n",
      "    47     38.4 MiB -43776.5 MiB      117407           date_user_counter[date][user] += 1\n",
      "    48                                         \n",
      "    49                                             # Encontramos los 10 días con más tweets\n",
      "    50     38.7 MiB      0.3 MiB          27       top_10_dates = sorted(date_user_counter.items(), key=lambda x: sum(x[1].values()), reverse=True)[:10]\n",
      "    51                                         \n",
      "    52                                             # Por cada uno de los 10 días, encontramos el usuario con más tweets\n",
      "    53     39.5 MiB      0.8 MiB          13       return [(date, user_counter.most_common(1)[0][0]) for date, user_counter in top_10_dates]\n",
      "\n",
      "\n"
     ]
    },
    {
     "data": {
      "text/plain": [
       "[(datetime.date(2021, 2, 12), 'RanbirS00614606'),\n",
       " (datetime.date(2021, 2, 13), 'MaanDee08215437'),\n",
       " (datetime.date(2021, 2, 17), 'RaaJVinderkaur'),\n",
       " (datetime.date(2021, 2, 16), 'jot__b'),\n",
       " (datetime.date(2021, 2, 14), 'rebelpacifist'),\n",
       " (datetime.date(2021, 2, 18), 'neetuanjle_nitu'),\n",
       " (datetime.date(2021, 2, 15), 'jot__b'),\n",
       " (datetime.date(2021, 2, 20), 'MangalJ23056160'),\n",
       " (datetime.date(2021, 2, 23), 'Surrypuria'),\n",
       " (datetime.date(2021, 2, 19), 'Preetm91')]"
      ]
     },
     "execution_count": 4,
     "metadata": {},
     "output_type": "execute_result"
    }
   ],
   "source": [
    "q1_memory(file_path)"
   ]
  },
  {
   "cell_type": "code",
   "execution_count": 5,
   "metadata": {},
   "outputs": [
    {
     "name": "stdout",
     "output_type": "stream",
     "text": [
      "Filename: /Users/estebanfelipecaceresgelvez/Downloads/challenge_DE/src/q1_memory.py\n",
      "\n",
      "Line #    Mem usage    Increment  Occurrences   Line Contents\n",
      "=============================================================\n",
      "    32     45.7 MiB     45.7 MiB           1   @profile\n",
      "    33                                         def q1_memory(file_path: str) -> List[Tuple[date, str]]:\n",
      "    34                                             \"\"\"\n",
      "    35                                             Función que retorna los 10 días con más tweets y el usuario que más tweets hizo en cada uno de esos días.\n",
      "    36                                             \n",
      "    37                                             :param file_path: str con la ruta del archivo JSON.\n",
      "    38                                             :return top_users_per_date: Lista de tuplas con la fecha y el usuario con más tweets en esa fecha.\n",
      "    39                                             \"\"\"\n",
      "    40                                             \n",
      "    41                                             # Creamos un diccionario con un contador por fecha\n",
      "    42     45.7 MiB      0.0 MiB           1       date_user_counter = defaultdict(Counter)\n",
      "    43                                         \n",
      "    44                                             # Leemos el archivo JSON y contamos los tweets por usuario y fecha. Usando json, para optimizar memoria.\n",
      "    45     47.3 MiB -471774.0 MiB      117408       for user, date_str in read_json_q1_memory(file_path):\n",
      "    46     47.3 MiB -471770.3 MiB      117407           date = datetime.fromisoformat(date_str).date()\n",
      "    47     47.3 MiB -471769.1 MiB      117407           date_user_counter[date][user] += 1\n",
      "    48                                         \n",
      "    49                                             # Encontramos los 10 días con más tweets\n",
      "    50     41.9 MiB     -5.4 MiB          27       top_10_dates = sorted(date_user_counter.items(), key=lambda x: sum(x[1].values()), reverse=True)[:10]\n",
      "    51                                         \n",
      "    52                                             # Por cada uno de los 10 días, encontramos el usuario con más tweets\n",
      "    53     42.5 MiB      0.7 MiB          13       return [(date, user_counter.most_common(1)[0][0]) for date, user_counter in top_10_dates]\n",
      "\n",
      "\n"
     ]
    }
   ],
   "source": [
    "!python q1_memory.py $file_path"
   ]
  },
  {
   "cell_type": "code",
   "execution_count": 6,
   "metadata": {},
   "outputs": [
    {
     "name": "stdout",
     "output_type": "stream",
     "text": [
      "Filename: /Users/estebanfelipecaceresgelvez/Downloads/challenge_DE/src/q1_memory.py\n",
      "\n",
      "Line #    Mem usage    Increment  Occurrences   Line Contents\n",
      "=============================================================\n",
      "    32     33.8 MiB     33.8 MiB           1   @profile\n",
      "    33                                         def q1_memory(file_path: str) -> List[Tuple[date, str]]:\n",
      "    34                                             \"\"\"\n",
      "    35                                             Función que retorna los 10 días con más tweets y el usuario que más tweets hizo en cada uno de esos días.\n",
      "    36                                             \n",
      "    37                                             :param file_path: str con la ruta del archivo JSON.\n",
      "    38                                             :return top_users_per_date: Lista de tuplas con la fecha y el usuario con más tweets en esa fecha.\n",
      "    39                                             \"\"\"\n",
      "    40                                             \n",
      "    41                                             # Creamos un diccionario con un contador por fecha\n",
      "    42     33.8 MiB      0.0 MiB           1       date_user_counter = defaultdict(Counter)\n",
      "    43                                         \n",
      "    44                                             # Leemos el archivo JSON y contamos los tweets por usuario y fecha. Usando json, para optimizar memoria.\n",
      "    45     37.2 MiB -63670.2 MiB      117408       for user, date_str in read_json_q1_memory(file_path):\n",
      "    46     37.2 MiB -63672.5 MiB      117407           date = datetime.fromisoformat(date_str).date()\n",
      "    47     37.2 MiB -63670.3 MiB      117407           date_user_counter[date][user] += 1\n",
      "    48                                         \n",
      "    49                                             # Encontramos los 10 días con más tweets\n",
      "    50     37.8 MiB      0.6 MiB          27       top_10_dates = sorted(date_user_counter.items(), key=lambda x: sum(x[1].values()), reverse=True)[:10]\n",
      "    51                                         \n",
      "    52                                             # Por cada uno de los 10 días, encontramos el usuario con más tweets\n",
      "    53     37.9 MiB      0.1 MiB          13       return [(date, user_counter.most_common(1)[0][0]) for date, user_counter in top_10_dates]\n",
      "\n",
      "\n",
      "Máxima memoria usada: 38 MB\n"
     ]
    }
   ],
   "source": [
    "mem_usage = memory_usage((q1_memory, (file_path,)))\n",
    "print(\"Máxima memoria usada: %d\" % max(mem_usage), \"MB\")"
   ]
  },
  {
   "cell_type": "markdown",
   "metadata": {},
   "source": [
    "Diferentes comandos muestran diferentes resultados, pero podría concluirse que el uso de memoria está entre los 38 y 39 MB"
   ]
  }
 ],
 "metadata": {
  "kernelspec": {
   "display_name": "env",
   "language": "python",
   "name": "python3"
  },
  "language_info": {
   "codemirror_mode": {
    "name": "ipython",
    "version": 3
   },
   "file_extension": ".py",
   "mimetype": "text/x-python",
   "name": "python",
   "nbconvert_exporter": "python",
   "pygments_lexer": "ipython3",
   "version": "3.10.8"
  },
  "orig_nbformat": 4
 },
 "nbformat": 4,
 "nbformat_minor": 2
}
