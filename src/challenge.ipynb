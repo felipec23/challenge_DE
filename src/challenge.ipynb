{
 "cells": [
  {
   "cell_type": "markdown",
   "metadata": {},
   "source": [
    "En este archivo puedes escribir lo que estimes conveniente. Te recomendamos detallar tu solución y todas las suposiciones que estás considerando. Aquí puedes ejecutar las funciones que definiste en los otros archivos de la carpeta src, medir el tiempo, memoria, etc."
   ]
  },
  {
   "cell_type": "markdown",
   "metadata": {},
   "source": [
    "# Entorno"
   ]
  },
  {
   "cell_type": "markdown",
   "metadata": {},
   "source": [
    "Las siguientes métricas de tiempos y memoria se calcularon en una MacBook Pro M1 de 16 GB de RAM, con Sonoma 14.5."
   ]
  },
  {
   "cell_type": "code",
   "execution_count": 12,
   "metadata": {},
   "outputs": [],
   "source": [
    "from memory_profiler import memory_usage\n",
    "file_path = \"../data/farmers-protest-tweets-2021-2-4.json\"\n",
    "\n",
    "def time_profile_function_wrapper(func):\n",
    "    import cProfile\n",
    "    import pstats\n",
    "    import io\n",
    "    import os\n",
    "    import sys\n",
    "\n",
    "    def wrapper(*args, **kwargs):\n",
    "        pr = cProfile.Profile()\n",
    "        pr.enable()\n",
    "        result = func(*args, **kwargs)\n",
    "        pr.disable()\n",
    "        s = io.StringIO()\n",
    "        ps = pstats.Stats(pr, stream=s).sort_stats('cumulative')\n",
    "        ps.print_stats()\n",
    "        print(s.getvalue())\n",
    "        return result\n",
    "\n",
    "    return wrapper\n"
   ]
  },
  {
   "cell_type": "markdown",
   "metadata": {},
   "source": [
    "# Primera pregunta"
   ]
  },
  {
   "cell_type": "markdown",
   "metadata": {},
   "source": [
    "Se probaron varias opciones para hacer esta pregunta. Primero, usar Pandas para, con un dataframe, calcular las métricas usando métodos como nlargest y groupby. Sin embargo, eran un poco más lentos que usando métodos nativos de Python. Además, el importar la librería de Pandas también incrementa la memoria.\n",
    "\n",
    "También, algo que veremos en todos los problemas, es la optimización que ocurre al usar la librería orjson en vez de json. El speedup es impresionante, y hace que por ejemplo este primer problema se ejecute en 1.2 segundos, en promedio.\n",
    "\n",
    "Por otro lado, añadir try/except añade al menos 0.1 sgs de más en promedio, pero es necesario, ya que el código debe ser robusto a posibles errores en el JSON."
   ]
  },
  {
   "cell_type": "markdown",
   "metadata": {},
   "source": [
    "## Tiempo"
   ]
  },
  {
   "cell_type": "code",
   "execution_count": 2,
   "metadata": {},
   "outputs": [],
   "source": [
    "from q1_time import q1_time"
   ]
  },
  {
   "cell_type": "markdown",
   "metadata": {},
   "source": [
    "Resultados:"
   ]
  },
  {
   "cell_type": "code",
   "execution_count": 5,
   "metadata": {},
   "outputs": [
    {
     "data": {
      "text/plain": [
       "[(datetime.date(2021, 2, 12), 'RanbirS00614606'),\n",
       " (datetime.date(2021, 2, 13), 'MaanDee08215437'),\n",
       " (datetime.date(2021, 2, 17), 'RaaJVinderkaur'),\n",
       " (datetime.date(2021, 2, 16), 'jot__b'),\n",
       " (datetime.date(2021, 2, 14), 'rebelpacifist'),\n",
       " (datetime.date(2021, 2, 18), 'neetuanjle_nitu'),\n",
       " (datetime.date(2021, 2, 15), 'jot__b'),\n",
       " (datetime.date(2021, 2, 20), 'MangalJ23056160'),\n",
       " (datetime.date(2021, 2, 23), 'Surrypuria'),\n",
       " (datetime.date(2021, 2, 19), 'Preetm91')]"
      ]
     },
     "execution_count": 5,
     "metadata": {},
     "output_type": "execute_result"
    }
   ],
   "source": [
    "q1_time(file_path)"
   ]
  },
  {
   "cell_type": "markdown",
   "metadata": {},
   "source": [
    "Tiempo promedio que se demora en correr la función:"
   ]
  },
  {
   "cell_type": "code",
   "execution_count": 6,
   "metadata": {},
   "outputs": [
    {
     "name": "stdout",
     "output_type": "stream",
     "text": [
      "1.32 s ± 467 ms per loop (mean ± std. dev. of 7 runs, 1 loop each)\n"
     ]
    }
   ],
   "source": [
    "%%timeit\n",
    "q1_time(file_path)"
   ]
  },
  {
   "cell_type": "markdown",
   "metadata": {},
   "source": [
    "Se demora 1.32 sgs cada ejecución."
   ]
  },
  {
   "cell_type": "markdown",
   "metadata": {},
   "source": [
    "Detalles:"
   ]
  },
  {
   "cell_type": "code",
   "execution_count": 13,
   "metadata": {},
   "outputs": [
    {
     "name": "stdout",
     "output_type": "stream",
     "text": [
      "         1090571 function calls in 1.312 seconds\n",
      "\n",
      "   Ordered by: cumulative time\n",
      "\n",
      "   ncalls  tottime  percall  cumtime  percall filename:lineno(function)\n",
      "        1    0.084    0.084    1.312    1.312 /Users/estebanfelipecaceresgelvez/Downloads/challenge_DE/src/q1_time.py:30(q1_time)\n",
      "   117408    0.505    0.000    1.211    0.000 /Users/estebanfelipecaceresgelvez/Downloads/challenge_DE/src/q1_time.py:6(read_json_q1_memory)\n",
      "   117407    0.633    0.000    0.633    0.000 {orjson.loads}\n",
      "    49772    0.016    0.000    0.043    0.000 /Users/estebanfelipecaceresgelvez/.pyenv/versions/3.10.8/lib/python3.10/codecs.py:319(decode)\n",
      "    49772    0.027    0.000    0.027    0.000 {built-in method _codecs.utf_8_decode}\n",
      "   352221    0.016    0.000    0.016    0.000 {method 'get' of 'dict' objects}\n",
      "   117407    0.012    0.000    0.012    0.000 {method 'split' of 'str' objects}\n",
      "   117407    0.007    0.000    0.007    0.000 {built-in method fromisoformat}\n",
      "   117407    0.006    0.000    0.006    0.000 {method 'date' of 'datetime.datetime' objects}\n",
      "    51646    0.003    0.000    0.003    0.000 /Users/estebanfelipecaceresgelvez/.pyenv/versions/3.10.8/lib/python3.10/collections/__init__.py:579(__missing__)\n",
      "        1    0.000    0.000    0.002    0.002 /Users/estebanfelipecaceresgelvez/Downloads/challenge_DE/src/q1_time.py:51(<listcomp>)\n",
      "       10    0.000    0.000    0.002    0.000 /Users/estebanfelipecaceresgelvez/.pyenv/versions/3.10.8/lib/python3.10/collections/__init__.py:588(most_common)\n",
      "       10    0.000    0.000    0.002    0.000 /Users/estebanfelipecaceresgelvez/.pyenv/versions/3.10.8/lib/python3.10/heapq.py:521(nlargest)\n",
      "       10    0.002    0.000    0.002    0.000 {built-in method builtins.max}\n",
      "        1    0.000    0.000    0.000    0.000 {built-in method builtins.sorted}\n",
      "       13    0.000    0.000    0.000    0.000 /Users/estebanfelipecaceresgelvez/Downloads/challenge_DE/src/q1_time.py:48(<lambda>)\n",
      "       13    0.000    0.000    0.000    0.000 {built-in method builtins.sum}\n",
      "        1    0.000    0.000    0.000    0.000 {built-in method io.open}\n",
      "       13    0.000    0.000    0.000    0.000 /Users/estebanfelipecaceresgelvez/.pyenv/versions/3.10.8/lib/python3.10/collections/__init__.py:565(__init__)\n",
      "        1    0.000    0.000    0.000    0.000 /Users/estebanfelipecaceresgelvez/.pyenv/versions/3.10.8/lib/python3.10/codecs.py:309(__init__)\n",
      "        1    0.000    0.000    0.000    0.000 {method '__exit__' of '_io._IOBase' objects}\n",
      "       13    0.000    0.000    0.000    0.000 /Users/estebanfelipecaceresgelvez/.pyenv/versions/3.10.8/lib/python3.10/collections/__init__.py:640(update)\n",
      "        1    0.000    0.000    0.000    0.000 /Users/estebanfelipecaceresgelvez/.pyenv/versions/3.10.8/lib/python3.10/codecs.py:260(__init__)\n",
      "        1    0.000    0.000    0.000    0.000 {method 'disable' of '_lsprof.Profiler' objects}\n",
      "       10    0.000    0.000    0.000    0.000 {built-in method builtins.iter}\n",
      "       13    0.000    0.000    0.000    0.000 {method 'values' of 'dict' objects}\n",
      "       11    0.000    0.000    0.000    0.000 {method 'items' of 'dict' objects}\n",
      "\n",
      "\n",
      "\n"
     ]
    },
    {
     "data": {
      "text/plain": [
       "[(datetime.date(2021, 2, 12), 'RanbirS00614606'),\n",
       " (datetime.date(2021, 2, 13), 'MaanDee08215437'),\n",
       " (datetime.date(2021, 2, 17), 'RaaJVinderkaur'),\n",
       " (datetime.date(2021, 2, 16), 'jot__b'),\n",
       " (datetime.date(2021, 2, 14), 'rebelpacifist'),\n",
       " (datetime.date(2021, 2, 18), 'neetuanjle_nitu'),\n",
       " (datetime.date(2021, 2, 15), 'jot__b'),\n",
       " (datetime.date(2021, 2, 20), 'MangalJ23056160'),\n",
       " (datetime.date(2021, 2, 23), 'Surrypuria'),\n",
       " (datetime.date(2021, 2, 19), 'Preetm91')]"
      ]
     },
     "execution_count": 13,
     "metadata": {},
     "output_type": "execute_result"
    }
   ],
   "source": [
    "time_profile_function_wrapper(q1_time)(file_path)"
   ]
  },
  {
   "cell_type": "markdown",
   "metadata": {},
   "source": [
    "## Memoria"
   ]
  },
  {
   "cell_type": "markdown",
   "metadata": {},
   "source": [
    "Memoria usada para corre la función"
   ]
  },
  {
   "cell_type": "code",
   "execution_count": 13,
   "metadata": {},
   "outputs": [],
   "source": [
    "%load_ext memory_profiler"
   ]
  },
  {
   "cell_type": "code",
   "execution_count": 36,
   "metadata": {},
   "outputs": [
    {
     "name": "stdout",
     "output_type": "stream",
     "text": [
      "\n"
     ]
    },
    {
     "name": "stdout",
     "output_type": "stream",
     "text": [
      "Filename: /Users/estebanfelipecaceresgelvez/Downloads/challenge_DE/src/q1_time.py\n",
      "\n",
      "Line #    Mem usage    Increment  Occurrences   Line Contents\n",
      "=============================================================\n",
      "    20     30.9 MiB     30.9 MiB           1   def q1_time(file_path: str) -> List[Tuple[date, str]]:\n",
      "    21                                         \n",
      "    22                                             \"\"\"\n",
      "    23                                             Función que retorna los 10 días con más tweets y el usuario que más tweets hizo en cada uno de esos días.\n",
      "    24                                         \n",
      "    25                                             :param file_path: str con la ruta del archivo JSON.\n",
      "    26                                             :return top_users_per_date: Lista de tuplas con la fecha y el usuario con más tweets en esa fecha.\n",
      "    27                                             \"\"\"\n",
      "    28                                         \n",
      "    29                                             # Inicializar diccionario de contadores\n",
      "    30     30.9 MiB      0.0 MiB           1       date_user_counter = defaultdict(Counter)\n",
      "    31                                         \n",
      "    32                                             # Leer el archivo JSON y contar los tweets por usuario y fecha\n",
      "    33     39.0 MiB   -427.0 MiB      117408       for user, date_str in read_json_q1_memory(file_path):\n",
      "    34     39.0 MiB   -432.1 MiB      117407           date = datetime.fromisoformat(date_str).date()\n",
      "    35     39.0 MiB   -429.2 MiB      117407           date_user_counter[date][user] += 1\n",
      "    36                                         \n",
      "    37                                             # Encontrar los 10 días con más tweets\n",
      "    38     39.1 MiB      0.1 MiB          27       top_10_dates = sorted(date_user_counter.items(), key=lambda x: sum(x[1].values()), reverse=True)[:10]\n",
      "    39                                         \n",
      "    40                                             # Por cada uno de los 10 días, encontrar el usuario con más tweets\n",
      "    41     39.2 MiB      0.0 MiB          13       top_users_per_date = [(date, user_counter.most_common(1)[0][0]) for date, user_counter in top_10_dates]\n",
      "    42                                         \n",
      "    43     39.2 MiB      0.0 MiB           1       return top_users_per_date"
     ]
    }
   ],
   "source": [
    "%mprun -f q1_time q1_time(file_path)"
   ]
  },
  {
   "cell_type": "code",
   "execution_count": 35,
   "metadata": {},
   "outputs": [
    {
     "name": "stdout",
     "output_type": "stream",
     "text": [
      "Máxima memoria usada: 37 MB\n"
     ]
    }
   ],
   "source": [
    "\n",
    "mem_usage = memory_usage((q1_time, (file_path,)))\n",
    "print(\"Máxima memoria usada: %d\" % max(mem_usage), \"MB\")"
   ]
  },
  {
   "cell_type": "code",
   "execution_count": 15,
   "metadata": {},
   "outputs": [
    {
     "name": "stdout",
     "output_type": "stream",
     "text": [
      "peak memory: 68.44 MiB, increment: 7.75 MiB\n"
     ]
    }
   ],
   "source": [
    "%memit q1_time(file_path)"
   ]
  },
  {
   "cell_type": "code",
   "execution_count": null,
   "metadata": {},
   "outputs": [],
   "source": []
  }
 ],
 "metadata": {
  "kernelspec": {
   "display_name": "env",
   "language": "python",
   "name": "python3"
  },
  "language_info": {
   "codemirror_mode": {
    "name": "ipython",
    "version": 3
   },
   "file_extension": ".py",
   "mimetype": "text/x-python",
   "name": "python",
   "nbconvert_exporter": "python",
   "pygments_lexer": "ipython3",
   "version": "3.10.8"
  },
  "orig_nbformat": 4
 },
 "nbformat": 4,
 "nbformat_minor": 2
}
